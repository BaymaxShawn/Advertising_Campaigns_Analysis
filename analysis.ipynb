{
 "cells": [
  {
   "cell_type": "code",
   "execution_count": 1,
   "id": "73b330c5",
   "metadata": {},
   "outputs": [],
   "source": [
    "import pandas as pd\n",
    "\n",
    "#1 Read keyword performance data (wa2_keyword_performance.xlsx)\n",
    "performance_data_path = '/Users/baymaxshawn/Desktop/implementation_assessment/wa2_keyword_performance.xlsx'\n",
    "performance_df = pd.read_excel(performance_data_path)"
   ]
  },
  {
   "cell_type": "code",
   "execution_count": 2,
   "id": "f0df055c",
   "metadata": {},
   "outputs": [],
   "source": [
    "#2 Use the “date” field to determine the most recent date observed\n",
    "end_date = performance_df['date'].max()"
   ]
  },
  {
   "cell_type": "code",
   "execution_count": 4,
   "id": "9cf38b97",
   "metadata": {},
   "outputs": [
    {
     "name": "stdout",
     "output_type": "stream",
     "text": [
      "Start Date: 2022-03-06 00:00:00\n",
      "End Date: 2022-04-05 00:00:00\n"
     ]
    }
   ],
   "source": [
    "#3 Determine the date 30 days before the ending date range value\n",
    "start_date = end_date - pd.DateOffset(days=30)\n",
    "print(\"Start Date:\", start_date)\n",
    "print(\"End Date:\", end_date)"
   ]
  },
  {
   "cell_type": "code",
   "execution_count": 36,
   "id": "d37a6824",
   "metadata": {},
   "outputs": [],
   "source": [
    "# 4 Aggregate the metrics across the desired time period and calculate ACoS\n",
    "aggregated_data = performance_df[(performance_df['date'] >= start_date) & (performance_df['date'] <= end_date)].groupby('keyword_id').agg({\n",
    "    'impressions': 'sum',\n",
    "    'clicks': 'sum',\n",
    "    'cost': 'sum',\n",
    "    'sales': 'sum',\n",
    "    'units_ordered': 'sum'\n",
    "}).reset_index()\n",
    "\n",
    "# Calculate ACoS\n",
    "aggregated_data['ACoS'] = aggregated_data['cost'] / aggregated_data['sales']\n",
    "\n",
    "# Save unaggregated values \n",
    "unaggregated_values = performance_df[['keyword_id','keyword_text' ,'match_type', 'campaign_id', 'campaign_name', 'short_id', 'top_search_multiplier']].drop_duplicates()\n",
    "\n",
    "# Merge aggregated data and unaggregated values\n",
    "final_data = pd.merge(aggregated_data, unaggregated_values, on='keyword_id', how='left')\n",
    "#print(final_data.head())\n"
   ]
  },
  {
   "cell_type": "code",
   "execution_count": 37,
   "id": "f475f5c0",
   "metadata": {},
   "outputs": [
    {
     "name": "stdout",
     "output_type": "stream",
     "text": [
      "Column Names in bid_df: Index(['keyword_id', 'state', 'bid'], dtype='object')\n"
     ]
    }
   ],
   "source": [
    "#5 Read the keyword bid file (wa2_keyword_bid.xlsx) and\n",
    "bid_data_path = '/Users/baymaxshawn/Desktop/implementation_assessment/wa2_keyword_bid.xlsx'\n",
    "bid_df = pd.read_excel(bid_data_path)\n",
    "print(\"Column Names in bid_df:\", bid_df.columns)\n",
    "\n",
    "# map bid onto the aggregated performance table via keyword_id\n",
    "final_data = pd.merge(final_data, bid_df[['keyword_id', 'bid', 'state']], on='keyword_id', how='left')\n",
    "#print(final_data.head())"
   ]
  },
  {
   "cell_type": "code",
   "execution_count": 38,
   "id": "64686968",
   "metadata": {},
   "outputs": [],
   "source": [
    "#6 Given bid and top_search_multiplier, calculate effective_bid (effective_bid = bid * top_search_multiplier)\n",
    "final_data['effective_bid'] = final_data['bid'] * final_data['top_search_multiplier']\n"
   ]
  },
  {
   "cell_type": "code",
   "execution_count": 39,
   "id": "2167717a",
   "metadata": {},
   "outputs": [],
   "source": [
    "# Read Product Database\n",
    "product_database_path = '/Users/baymaxshawn/Desktop/implementation_assessment/wa2_product_database.xlsx'  \n",
    "product_database = pd.read_excel(product_database_path)\n",
    "#print(\"Column Names in product_database:\", product_database.columns)\n",
    "\n",
    "# merge breakeven to data\n",
    "final_data = pd.merge(final_data, product_database[['short_id', 'Breakeven ACoS', 'Breakeven Cost']], on='short_id', how='left')\n",
    "#print(final_data.head())"
   ]
  },
  {
   "cell_type": "code",
   "execution_count": 40,
   "id": "74acbb02",
   "metadata": {},
   "outputs": [],
   "source": [
    "#7 Apply bid optimization rules(1-5)\n",
    "# Rule 1\n",
    "rule1_condition = final_data['ACoS'] > (final_data['Breakeven ACoS'] + 0.10)\n",
    "final_data.loc[rule1_condition, 'effective_bid'] *= 0.75\n",
    "\n",
    "# Rule 2\n",
    "rule2_condition = (final_data['ACoS'] < (final_data['Breakeven ACoS'] - 0.05)) & (final_data['units_ordered'] >= 2)\n",
    "final_data.loc[rule2_condition, 'effective_bid'] *= 1.15\n",
    "\n",
    "# Rule 3\n",
    "rule3_condition = (final_data['sales'] == 0) & (final_data['cost'] > 1.25 * final_data['Breakeven Cost'])\n",
    "final_data.loc[rule3_condition, 'effective_bid'] *= 0.75\n",
    "\n",
    "# Rule 4\n",
    "rule4_condition = final_data['ACoS'] > (2.75 * final_data['Breakeven ACoS'])\n",
    "final_data.loc[rule4_condition, 'Final Proposed State'] = 'paused'\n",
    "\n",
    "# Rule 5\n",
    "rule5_condition = (final_data['sales'] == 0) & (final_data['cost'] > 2.5 * final_data['Breakeven Cost'])\n",
    "final_data.loc[rule5_condition, 'Final Proposed State'] = 'paused'"
   ]
  },
  {
   "cell_type": "code",
   "execution_count": 41,
   "id": "40001d86",
   "metadata": {},
   "outputs": [],
   "source": [
    "final_data['conversions'] = final_data['sales'] \n",
    "final_data['Breakeven ACoS+10'] = final_data['Breakeven ACoS'] + 0.10\n",
    "final_data['Breakeven ACoS-5'] = final_data['Breakeven ACoS'] - 0.05\n",
    "final_data['Breakeven ACoSx2.75'] = final_data['Breakeven ACoS'] * 2.75\n",
    "final_data['Breakeven Costx1.25'] = final_data['Breakeven Cost'] * 1.25\n",
    "final_data['Breakeven Costx2.5'] = final_data['Breakeven Cost'] * 2.5\n",
    "final_data['Bid Optimization Rule(s) Applied'] = ''  \n",
    "final_data['Final Proposed Effective Bid'] = 0.0  "
   ]
  },
  {
   "cell_type": "code",
   "execution_count": 42,
   "id": "6cc2dceb",
   "metadata": {},
   "outputs": [],
   "source": [
    "#8 For Final Proposed Bid\n",
    "final_data['Final Proposed Bid'] = final_data['effective_bid'] / final_data['top_search_multiplier']"
   ]
  },
  {
   "cell_type": "code",
   "execution_count": 43,
   "id": "c5e5e7ca",
   "metadata": {},
   "outputs": [],
   "source": [
    "#9 Note the bid optimization rule applied/type of change\n",
    "final_data.loc[rule1_condition, 'Bid Optimization Rule(s) Applied'] = 'Rule 1: Decrease by 25%'\n",
    "final_data.loc[rule2_condition, 'Bid Optimization Rule(s) Applied'] = 'Rule 2: Increase by 15%'\n",
    "final_data.loc[rule3_condition, 'Bid Optimization Rule(s) Applied'] = 'Rule 3: Decrease by 25%'\n",
    "final_data.loc[rule4_condition, 'Bid Optimization Rule(s) Applied'] = 'Rule 4: Paused'\n",
    "final_data.loc[rule5_condition, 'Bid Optimization Rule(s) Applied'] = 'Rule 5: Paused'\n",
    "final_data.loc[:, 'Final Proposed Effective Bid'] = final_data['effective_bid'] "
   ]
  },
  {
   "cell_type": "code",
   "execution_count": 46,
   "id": "9e8471d2",
   "metadata": {},
   "outputs": [
    {
     "name": "stdout",
     "output_type": "stream",
     "text": [
      "Column Names in final_data: Index(['keyword_id', 'keyword_text', 'campaign_name', 'short_id', 'bid',\n",
      "       'top_search_multiplier', 'effective_bid', 'impressions', 'clicks',\n",
      "       'cost', 'sales', 'ACoS', 'units_ordered', 'conversions',\n",
      "       'Breakeven ACoS', 'Breakeven ACoS+10', 'Breakeven ACoS-5',\n",
      "       'Breakeven ACoSx2.75', 'Breakeven Cost', 'Breakeven Costx1.25',\n",
      "       'Breakeven Costx2.5', 'Bid Optimization Rule(s) Applied',\n",
      "       'Final Proposed Effective Bid', 'Final Proposed Bid',\n",
      "       'Final Proposed State'],\n",
      "      dtype='object')\n"
     ]
    }
   ],
   "source": [
    "#10 Generate output file\n",
    "final_data['Final Proposed State'] = 'Active' \n",
    "final_data.loc[rule4_condition | rule5_condition, 'Final Proposed State'] = 'Paused'\n",
    "\n",
    "selected_columns = [\n",
    "    'keyword_id',\n",
    "    'keyword_text',\n",
    "    'campaign_name',\n",
    "    'short_id',\n",
    "    'bid',\n",
    "    'top_search_multiplier',\n",
    "    'effective_bid',\n",
    "    'impressions',\n",
    "    'clicks',\n",
    "    'cost',\n",
    "    'sales',\n",
    "    'ACoS',\n",
    "    'units_ordered',\n",
    "    'conversions',\n",
    "    'Breakeven ACoS',\n",
    "    'Breakeven ACoS+10',\n",
    "    'Breakeven ACoS-5',\n",
    "    'Breakeven ACoSx2.75',\n",
    "    'Breakeven Cost',\n",
    "    'Breakeven Costx1.25',\n",
    "    'Breakeven Costx2.5',\n",
    "    'Bid Optimization Rule(s) Applied',\n",
    "    'Final Proposed Effective Bid',\n",
    "    'Final Proposed Bid',\n",
    "    'Final Proposed State'\n",
    "]\n",
    "\n",
    "final_data = final_data[selected_columns]\n",
    "\n",
    "output_path = '/Users/baymaxshawn/Desktop/implementation_assessment/output_file.xlsx'  \n",
    "final_data.to_excel(output_path, index=False)\n",
    "\n",
    "#print(final_data.head())\n",
    "print(\"Column Names in final_data:\", final_data.columns)"
   ]
  },
  {
   "cell_type": "code",
   "execution_count": null,
   "id": "c137d978",
   "metadata": {},
   "outputs": [],
   "source": []
  }
 ],
 "metadata": {
  "kernelspec": {
   "display_name": "Python 3 (ipykernel)",
   "language": "python",
   "name": "python3"
  },
  "language_info": {
   "codemirror_mode": {
    "name": "ipython",
    "version": 3
   },
   "file_extension": ".py",
   "mimetype": "text/x-python",
   "name": "python",
   "nbconvert_exporter": "python",
   "pygments_lexer": "ipython3",
   "version": "3.11.5"
  }
 },
 "nbformat": 4,
 "nbformat_minor": 5
}
