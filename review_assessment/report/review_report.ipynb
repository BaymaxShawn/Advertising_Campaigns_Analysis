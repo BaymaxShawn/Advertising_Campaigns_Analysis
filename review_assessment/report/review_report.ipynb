{
 "cells": [
  {
   "cell_type": "code",
   "execution_count": 2,
   "id": "527dc22c",
   "metadata": {
    "scrolled": false
   },
   "outputs": [],
   "source": [
    "import pandas as pd\n",
    "\n",
    "#Step 1 Read Data\n",
    "keywords_df = pd.read_excel(\"/Users/baymaxshawn/Desktop/review_assessment/Keywords Input.xlsx\")\n",
    "opc_labels_df = pd.read_excel(\"/Users/baymaxshawn/Desktop/review_assessment/OPC Labels Input.xlsx\")\n",
    "\n",
    "sheet1_df = pd.read_excel(\"/Users/baymaxshawn/Desktop/review_assessment/opc_review_output.xlsx\", sheet_name=\"1\")\n",
    "sheet2_df = pd.read_excel(\"/Users/baymaxshawn/Desktop/review_assessment/opc_review_output.xlsx\", sheet_name=\"2\")\n",
    "sheet3_df = pd.read_excel(\"/Users/baymaxshawn/Desktop/review_assessment/opc_review_output.xlsx\", sheet_name=\"3\")"
   ]
  },
  {
   "cell_type": "code",
   "execution_count": 5,
   "id": "349b8d53",
   "metadata": {},
   "outputs": [
    {
     "name": "stdout",
     "output_type": "stream",
     "text": [
      "Index(['short_id', 'keyword_text', 'SPA Rank', 'bid', 'OPC label'], dtype='object')\n"
     ]
    }
   ],
   "source": [
    "print(keywords_with_opc_labels.columns)"
   ]
  },
  {
   "cell_type": "code",
   "execution_count": 18,
   "id": "e6082968",
   "metadata": {},
   "outputs": [],
   "source": [
    "#Step 2\n",
    "\n",
    "#Check Assign OPC Label \n",
    "keywords_with_opc_labels = pd.merge(keywords_df, opc_labels_df, on='keyword_text', how='left')\n",
    "missing_opc_labels = keywords_with_opc_labels[keywords_with_opc_labels['OPC label'].isnull()]\n",
    "\n",
    "if not missing_opc_labels.empty:\n",
    "    error_type = \"Missing OPC Label\"\n",
    "    example = missing_opc_labels.iloc[0] \n",
    "    print(f\"Error Class/Type: {error_type}\")\n",
    "    print(f\"Example: {example}/n\")"
   ]
  },
  {
   "cell_type": "code",
   "execution_count": 33,
   "id": "e7fba25a",
   "metadata": {},
   "outputs": [
    {
     "name": "stdout",
     "output_type": "stream",
     "text": [
      "Number of missing SPA values: 0\n",
      "Error Class/Type: Bid Swap Error\n",
      "Example: OPC Rank    1.0\n",
      "bid         0.1\n",
      "SPA Rank    NaN\n",
      "Name: 0, dtype: float64\n",
      "\n"
     ]
    }
   ],
   "source": [
    "# Check Perform bid swaps \n",
    "before_swap_df = sheet1_df[['OPC Rank', 'bid', 'SPA Rank']].copy()\n",
    "\n",
    "out_of_position_short_ids = sheet1_df.dropna(subset=['SPA Rank'])\n",
    "out_of_position_short_ids = out_of_position_short_ids[out_of_position_short_ids['OPC Rank'] != out_of_position_short_ids['SPA Rank']]\n",
    "\n",
    "missing_spa_values = out_of_position_short_ids['SPA Rank'].isnull().sum()\n",
    "print(f\"Number of missing SPA values: {missing_spa_values}\")\n",
    "\n",
    "for i, row in out_of_position_short_ids.iterrows():\n",
    "    higher_opc_rank = row['OPC Rank']\n",
    "    higher_bid = row['bid']\n",
    "    lower_opc_rank = row['SPA Rank']\n",
    "\n",
    "    matching_rows = before_swap_df[before_swap_df['OPC Rank'] == lower_opc_rank]\n",
    "\n",
    "    if not matching_rows.empty and not matching_rows['bid'].isnull().all():\n",
    "        lower_bid = matching_rows['bid'].values[0]\n",
    "    else:\n",
    "        lower_bid = None\n",
    "        \n",
    "    before_swap_df.loc[before_swap_df['OPC Rank'] == lower_opc_rank, 'bid'] = higher_bid\n",
    "    before_swap_df.loc[before_swap_df['OPC Rank'] == higher_opc_rank, 'bid'] = lower_bid\n",
    "\n",
    "if not before_swap_df.equals(sheet1_df[['OPC Rank', 'bid', 'SPA Rank']]):\n",
    "    error_type = \"Bid Swap Error\"\n",
    "    example = before_swap_df.iloc[0]\n",
    "    print(f\"Error Class/Type: {error_type}\")\n",
    "    print(f\"Example: {example}\\n\")\n",
    "\n"
   ]
  },
  {
   "cell_type": "code",
   "execution_count": 24,
   "id": "a12be654",
   "metadata": {},
   "outputs": [
    {
     "name": "stdout",
     "output_type": "stream",
     "text": [
      "Empty DataFrame\n",
      "Columns: [short_id, keyword_text, SPA Rank, bid, OPC Label, OPC Rank, bid_rank, temp_new_bid, final_new_bid]\n",
      "Index: []\n"
     ]
    }
   ],
   "source": [
    "missing_bid_rows = sheet1_df[sheet1_df['bid'].isnull()]\n",
    "print(missing_bid_rows)\n"
   ]
  },
  {
   "cell_type": "code",
   "execution_count": 25,
   "id": "0333f3e7",
   "metadata": {},
   "outputs": [],
   "source": [
    "#Check Identifying any short IDs \n",
    "higher_ranked_short_ids = sheet2_df[sheet2_df['SPA Rank'].isnull() & (sheet2_df['OPC Rank'] > sheet2_df['SPA Rank'])]\n",
    "\n",
    "for i, row in higher_ranked_short_ids.iterrows():\n",
    "    max_bid_of_lower_ran_spots = sheet2_df[sheet2_df['SPA Rank'] < row['OPC Rank']]['bid'].max()\n",
    "    bid_increment = max_bid_of_lower_ran_spots * 0.15\n",
    "    new_bid = max(bid_increment, row['bid'])\n",
    "\n",
    "    #qualif\n",
    "    if new_bid < row['bid']:\n",
    "        error_type = \"Bid Increment Error\"\n",
    "        example = row\n",
    "        print(f\"Error Class/Type: {error_type}\")\n",
    "        print(f\"Example: {example}\\n\")\n"
   ]
  },
  {
   "cell_type": "code",
   "execution_count": null,
   "id": "e413f424",
   "metadata": {},
   "outputs": [],
   "source": []
  }
 ],
 "metadata": {
  "kernelspec": {
   "display_name": "Python 3 (ipykernel)",
   "language": "python",
   "name": "python3"
  },
  "language_info": {
   "codemirror_mode": {
    "name": "ipython",
    "version": 3
   },
   "file_extension": ".py",
   "mimetype": "text/x-python",
   "name": "python",
   "nbconvert_exporter": "python",
   "pygments_lexer": "ipython3",
   "version": "3.11.5"
  }
 },
 "nbformat": 4,
 "nbformat_minor": 5
}
